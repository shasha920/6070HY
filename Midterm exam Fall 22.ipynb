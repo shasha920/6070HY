{
 "cells": [
  {
   "cell_type": "markdown",
   "metadata": {},
   "source": [
    "# GBA 6070 - Programming Foundation for Business Analytics\n",
    "# Dr. Mohammad Salehan\n",
    "# Midterm Exam"
   ]
  },
  {
   "cell_type": "markdown",
   "metadata": {},
   "source": [
    "This exam is worth 200 points equal to 20% of your final score."
   ]
  },
  {
   "cell_type": "markdown",
   "metadata": {},
   "source": [
    "## Prerequisites\n",
    "Here, I introduce a few new concepts that you will need in this assignment."
   ]
  },
  {
   "cell_type": "markdown",
   "metadata": {},
   "source": [
    "### datetime object\n",
    "datetime class allows you to create datetime objects. Below you see how to create one:"
   ]
  },
  {
   "cell_type": "code",
   "execution_count": 93,
   "metadata": {},
   "outputs": [
    {
     "data": {
      "text/plain": [
       "datetime.datetime(2022, 10, 7, 0, 0)"
      ]
     },
     "execution_count": 93,
     "metadata": {},
     "output_type": "execute_result"
    }
   ],
   "source": [
    "import datetime\n",
    "#format: year, month, day\n",
    "date = datetime.datetime(2022, 10, 7)\n",
    "date"
   ]
  },
  {
   "cell_type": "markdown",
   "metadata": {},
   "source": [
    "### String.split() method\n",
    "Allows you to split a string based on a given separator. The default value for separator is ' ' (i.e., one blank space). The method returns a list of string values resulting from splitting. Here is an example:"
   ]
  },
  {
   "cell_type": "code",
   "execution_count": 2,
   "metadata": {},
   "outputs": [
    {
     "data": {
      "text/plain": [
       "['It', 'is', 'a', 'good', 'day']"
      ]
     },
     "execution_count": 2,
     "metadata": {},
     "output_type": "execute_result"
    }
   ],
   "source": [
    "s = 'It is a good day'\n",
    "r = s.split()\n",
    "r"
   ]
  },
  {
   "cell_type": "markdown",
   "metadata": {},
   "source": [
    "You can provide your own separator. For example, here I split using the vertical bar character (|):"
   ]
  },
  {
   "cell_type": "code",
   "execution_count": 3,
   "metadata": {},
   "outputs": [
    {
     "data": {
      "text/plain": [
       "['one', 'two', 'three', 'four']"
      ]
     },
     "execution_count": 3,
     "metadata": {},
     "output_type": "execute_result"
    }
   ],
   "source": [
    "s = 'one|two|three|four'\n",
    "r = s.split('|')\n",
    "r"
   ]
  },
  {
   "cell_type": "markdown",
   "metadata": {},
   "source": [
    "## Q1 (20 points)\n",
    "Write a function that accepts a list of integers and returns a new list containing even numbers from the input list."
   ]
  },
  {
   "cell_type": "code",
   "execution_count": 4,
   "metadata": {},
   "outputs": [
    {
     "data": {
      "text/plain": [
       "[2, 4, 6, 8]"
      ]
     },
     "execution_count": 4,
     "metadata": {},
     "output_type": "execute_result"
    }
   ],
   "source": [
    "def onlyEven(listCon):\n",
    "    evenNumber=[]\n",
    "    for i in listCon:\n",
    "        if i%2==0:\n",
    "            evenNumber.append(i)\n",
    "    return evenNumber\n",
    "\n",
    "a=[1,2,3,4,5,6,7,8]\n",
    "onlyEven(a)"
   ]
  },
  {
   "cell_type": "markdown",
   "metadata": {},
   "source": [
    "## Q2 (20 points)\n",
    "Write a program that keeps reading numbers from input until number -100 is entered. Then, the program prints the frequency of each value. For example if 1,1,3,7,-100 are enetered the program prints:  \n",
    "1: 2  \n",
    "3: 1  \n",
    "7: 1   \n",
    "You need to validate the input to make sure it is integer. Using a list is acceptable but the program can be written without saving all values in memory."
   ]
  },
  {
   "cell_type": "code",
   "execution_count": 30,
   "metadata": {},
   "outputs": [
    {
     "name": "stdin",
     "output_type": "stream",
     "text": [
      "Enter a Interger number. (-100 to quit) 1\n",
      "Enter a Interger number. (-100 to quit) 12\n",
      "Enter a Interger number. (-100 to quit) 0\n",
      "Enter a Interger number. (-100 to quit) 8\n",
      "Enter a Interger number. (-100 to quit) 0\n",
      "Enter a Interger number. (-100 to quit) 9\n",
      "Enter a Interger number. (-100 to quit) 3\n",
      "Enter a Interger number. (-100 to quit) 3\n",
      "Enter a Interger number. (-100 to quit) 3\n",
      "Enter a Interger number. (-100 to quit) 6\n",
      "Enter a Interger number. (-100 to quit) 6\n",
      "Enter a Interger number. (-100 to quit) 10\n",
      "Enter a Interger number. (-100 to quit) 1\n",
      "Enter a Interger number. (-100 to quit) 0\n",
      "Enter a Interger number. (-100 to quit) 0\n",
      "Enter a Interger number. (-100 to quit) 0\n",
      "Enter a Interger number. (-100 to quit) -100\n"
     ]
    },
    {
     "name": "stdout",
     "output_type": "stream",
     "text": [
      "Let check frequency of each value:\n",
      "0     5\n",
      "3     3\n",
      "1     2\n",
      "6     2\n",
      "8     1\n",
      "9     1\n",
      "10    1\n",
      "12    1\n",
      "dtype: int64\n"
     ]
    }
   ],
   "source": [
    "import pandas as pd\n",
    "try:\n",
    "    number=0\n",
    "    numbers=[]\n",
    "    while number!=-100:\n",
    "        number=int(input(\"Enter a Interger number. (-100 to quit)\"))\n",
    "        if number!=-100:\n",
    "            numbers.append(number)\n",
    "    df=pd.DataFrame(numbers)\n",
    "    dfCount=df.value_counts()\n",
    "    print(\"Let check frequency of each value:\")\n",
    "    print(dfCount)\n",
    "except ValueError:\n",
    "    print(\"Please enter Interger number! Let do it again\")"
   ]
  },
  {
   "cell_type": "markdown",
   "metadata": {},
   "source": [
    "## Q3 (20 points)\n",
    "Write a function that accepts a string and returns the most frequent word in it and its frequency."
   ]
  },
  {
   "cell_type": "code",
   "execution_count": 22,
   "metadata": {},
   "outputs": [
    {
     "data": {
      "text/plain": [
       "day     4\n",
       "good    4\n",
       "dtype: int64"
      ]
     },
     "execution_count": 22,
     "metadata": {},
     "output_type": "execute_result"
    }
   ],
   "source": [
    "import pandas as pd\n",
    "def changeStoW(s):\n",
    "    r=s.split()\n",
    "    df1=pd.DataFrame(r)\n",
    "    return df1.value_counts()[df1.value_counts()==df1.value_counts().max()]\n",
    "s=\"It is good a good good good day day day day\"\n",
    "changeStoW(s)"
   ]
  },
  {
   "cell_type": "markdown",
   "metadata": {},
   "source": [
    "## Q4 (20 points)\n",
    "Write a function that finds the number of zeros at the end of an integer. For example, it will return 3 for 12000."
   ]
  },
  {
   "cell_type": "code",
   "execution_count": 24,
   "metadata": {},
   "outputs": [
    {
     "data": {
      "text/plain": [
       "8"
      ]
     },
     "execution_count": 24,
     "metadata": {},
     "output_type": "execute_result"
    }
   ],
   "source": [
    "def findZero(f):\n",
    "    putDown=str(f)\n",
    "    return len(putDown)-len(putDown.rstrip('0'))\n",
    "                            \n",
    "e=5800000000\n",
    "findZero(e)       "
   ]
  },
  {
   "cell_type": "markdown",
   "metadata": {},
   "source": [
    "## Q5 (20 points)\n",
    "Write a function that returns the distinct words in a string. For example, given the string `\"I am happy and I am sad\"` as input, the function returns `[\"I\", \"am\", \"happy\", \"and\", \"sad\"]`."
   ]
  },
  {
   "cell_type": "code",
   "execution_count": 37,
   "metadata": {},
   "outputs": [
    {
     "data": {
      "text/plain": [
       "{'I', 'am', 'and', 'happy', 'sad'}"
      ]
     },
     "execution_count": 37,
     "metadata": {},
     "output_type": "execute_result"
    }
   ],
   "source": [
    "def listToSet(s):\n",
    "    t=set(s.split())\n",
    "    return t\n",
    "\n",
    "s=\"I am happy happy and I am sad\"\n",
    "listToSet(s)"
   ]
  },
  {
   "cell_type": "markdown",
   "metadata": {},
   "source": [
    "## Q6 (20 points)\n",
    "Write a function that subtracts from an integer the sum of its digits and returns the result. For example for 123 the results will be 123 - (1+2+3) = 117."
   ]
  },
  {
   "cell_type": "code",
   "execution_count": 43,
   "metadata": {},
   "outputs": [
    {
     "data": {
      "text/plain": [
       "117"
      ]
     },
     "execution_count": 43,
     "metadata": {},
     "output_type": "execute_result"
    }
   ],
   "source": [
    "def subSum(n):\n",
    "    f=n\n",
    "    s=0\n",
    "    while n!=0:\n",
    "        s+=n%10\n",
    "        n//=10\n",
    "    return f-s\n",
    "\n",
    "n=123\n",
    "subSum(n)"
   ]
  },
  {
   "cell_type": "markdown",
   "metadata": {},
   "source": [
    "## Q7 (20 points)\n",
    "Write a function that returns all divisors of a given inetger."
   ]
  },
  {
   "cell_type": "code",
   "execution_count": 83,
   "metadata": {},
   "outputs": [
    {
     "data": {
      "text/plain": [
       "[1, 2, 3, 4, 6, 12]"
      ]
     },
     "execution_count": 83,
     "metadata": {},
     "output_type": "execute_result"
    }
   ],
   "source": [
    "def allDivisor(n):\n",
    "    divisors=[]\n",
    "    for i in range(1,n+1):\n",
    "        if (n%i)==0:\n",
    "            divisors.append(i)\n",
    "    return divisors\n",
    "\n",
    "allDivisor(12)"
   ]
  },
  {
   "cell_type": "markdown",
   "metadata": {},
   "source": [
    "## Q8 (20 points)\n",
    "Write a function that returns the common divisors of 2 integers."
   ]
  },
  {
   "cell_type": "code",
   "execution_count": 144,
   "metadata": {},
   "outputs": [
    {
     "name": "stdout",
     "output_type": "stream",
     "text": [
      "[1, 2, 3, 6]\n"
     ]
    }
   ],
   "source": [
    "import math\n",
    "def comDiv(num1,num2):\n",
    "    n=[]\n",
    "    t=math.gcd(num1,num2)\n",
    "    for i in range(1,t+1):\n",
    "        if t%i==0:\n",
    "            n.append(i)\n",
    "    return n\n",
    "\n",
    "print(comDiv(6,12))"
   ]
  },
  {
   "cell_type": "markdown",
   "metadata": {},
   "source": [
    "## Q9. Acount Class (20 points)\n",
    "The class represents a bank account and has 5 attributes: account_id (int), first_name (str), last_name (str), dob (datetime), and balance (int). Follow the intructions to implement the methods. Your job is to add code where needed. You need to remove all occurences of keyword 'pass' and replace it with your own code."
   ]
  },
  {
   "cell_type": "code",
   "execution_count": 145,
   "metadata": {},
   "outputs": [],
   "source": [
    "class Account:\n",
    "    def __init__(self,accountId,firstName,lastName,date,balance):\n",
    "        self.accountId=accountId\n",
    "        self.name=firstName+\" \"+lastName\n",
    "        self.date=date\n",
    "        self.balance=balance\n",
    "        \n",
    "    def deposit(self,d):\n",
    "        self.balance=self.balance+d\n",
    "        print('The new balance is ${}'.format(self.balance))\n",
    "        \n",
    "    def withdraw(self,w):\n",
    "        if(self.balance>=w):\n",
    "            self.balance-=w\n",
    "            print('The new balance is ${}'.format(self.balance))\n",
    "        else:\n",
    "            print('Cannot withdraw ${}'.format(w),'due to insifficient funds.')\n",
    "            \n",
    "    def __str__(self):\n",
    "        return 'account id:{},Owner:{},balance:${}'.format(self.accountId,self.name,self.balance)\n",
    "    "
   ]
  },
  {
   "cell_type": "markdown",
   "metadata": {},
   "source": [
    "Run the cell below to test your class. The output should look like this:<br><br>\n",
    "The new balance is \\\\$150<br>\n",
    "The new balance is \\\\$140<br>\n",
    "Cannot withdraw \\\\$200 due to insifficient funds.<br>\n",
    "account id: 1, Owner: Mohammad Salehan, balance: \\$140"
   ]
  },
  {
   "cell_type": "code",
   "execution_count": 146,
   "metadata": {},
   "outputs": [
    {
     "name": "stdout",
     "output_type": "stream",
     "text": [
      "The new balance is $150\n",
      "The new balance is $140\n",
      "Cannot withdraw $200 due to insifficient funds.\n",
      "account id:1,Owner:Mohammad Salehan,balance:$140\n"
     ]
    }
   ],
   "source": [
    "account = Account(1, 'Mohammad', 'Salehan', datetime.datetime(1983, 5, 17), 100)\n",
    "account.deposit(50)\n",
    "account.withdraw(10)\n",
    "account.withdraw(200)\n",
    "print(account)"
   ]
  },
  {
   "cell_type": "markdown",
   "metadata": {},
   "source": [
    "# Q.10 GPA (20 points)\n",
    "a. Make a class for student. The class must contain 3 data attributes: student ID (`string`), name (`string`), and courses (`dictionary`). The class `constructor` would accept 3 parameters to set the values for these 3 attributes. The courses `dictionary` maps courses (keys) to grades (values). Assume that the only possible grades are A, B, C, D, and F. Add a function named `calculate_gpa` that calculates and returns the GPA of the student. Here is how much each grade contributes to the GPA: A: 4, B: 3, C: 2, D: 1, and F: zero."
   ]
  },
  {
   "cell_type": "code",
   "execution_count": null,
   "metadata": {},
   "outputs": [],
   "source": []
  },
  {
   "cell_type": "markdown",
   "metadata": {},
   "source": [
    "b. Create a new student with at least 4 courses and their corrosponding grades. Calculate the student's GPA by invoking `calculate_gpa` function."
   ]
  },
  {
   "cell_type": "code",
   "execution_count": null,
   "metadata": {},
   "outputs": [],
   "source": []
  }
 ],
 "metadata": {
  "kernelspec": {
   "display_name": "Python 3 (ipykernel)",
   "language": "python",
   "name": "python3"
  },
  "language_info": {
   "codemirror_mode": {
    "name": "ipython",
    "version": 3
   },
   "file_extension": ".py",
   "mimetype": "text/x-python",
   "name": "python",
   "nbconvert_exporter": "python",
   "pygments_lexer": "ipython3",
   "version": "3.9.12"
  }
 },
 "nbformat": 4,
 "nbformat_minor": 4
}
