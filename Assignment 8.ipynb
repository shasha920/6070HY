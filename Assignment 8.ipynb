{
 "cells": [
  {
   "cell_type": "markdown",
   "metadata": {},
   "source": [
    "# GBA 6070 - Programming Foundation for Business Analytics\n",
    "# Dr. Mohammad Salehan\n",
    "# Assignment 8 - Multidimensioal Arrays\n",
    "Runt the cell below to set up your notebook. Each cell should start with np.random.seed(0) to make the results consistent for all students."
   ]
  },
  {
   "cell_type": "code",
   "execution_count": 96,
   "metadata": {},
   "outputs": [],
   "source": [
    "import numpy as np\n",
    "np.random.seed(0)"
   ]
  },
  {
   "cell_type": "markdown",
   "metadata": {},
   "source": [
    "1. Create a 4x4 array that contains numbers 1-16."
   ]
  },
  {
   "cell_type": "code",
   "execution_count": 97,
   "metadata": {},
   "outputs": [
    {
     "data": {
      "text/plain": [
       "array([[ 1,  2,  3,  4],\n",
       "       [ 5,  6,  7,  8],\n",
       "       [ 9, 10, 11, 12],\n",
       "       [13, 14, 15, 16]])"
      ]
     },
     "execution_count": 97,
     "metadata": {},
     "output_type": "execute_result"
    }
   ],
   "source": [
    "np.random.seed(0)\n",
    "x=np.arange(1,17).reshape(4,4)\n",
    "x"
   ]
  },
  {
   "cell_type": "markdown",
   "metadata": {},
   "source": [
    "2. Create 2 random 4x3 arrays and calculate the sum of their corrosponding elements. Use vectorization for sum calculation."
   ]
  },
  {
   "cell_type": "code",
   "execution_count": 98,
   "metadata": {},
   "outputs": [
    {
     "name": "stdout",
     "output_type": "stream",
     "text": [
      "[[0.5488135  0.71518937 0.60276338]\n",
      " [0.54488318 0.4236548  0.64589411]\n",
      " [0.43758721 0.891773   0.96366276]\n",
      " [0.38344152 0.79172504 0.52889492]]\n",
      "[[0.56804456 0.92559664 0.07103606]\n",
      " [0.0871293  0.0202184  0.83261985]\n",
      " [0.77815675 0.87001215 0.97861834]\n",
      " [0.79915856 0.46147936 0.78052918]]\n"
     ]
    },
    {
     "data": {
      "text/plain": [
       "array([[1.11685807, 1.640786  , 0.67379943],\n",
       "       [0.63201248, 0.4438732 , 1.47851396],\n",
       "       [1.21574396, 1.76178515, 1.9422811 ],\n",
       "       [1.18260008, 1.2532044 , 1.3094241 ]])"
      ]
     },
     "execution_count": 98,
     "metadata": {},
     "output_type": "execute_result"
    }
   ],
   "source": [
    "np.random.seed(0)\n",
    "x1=np.random.random((4,3))\n",
    "x2=np.random.random((4,3))\n",
    "print(x1)\n",
    "print(x2)\n",
    "x3=x1+x2\n",
    "x3"
   ]
  },
  {
   "cell_type": "markdown",
   "metadata": {},
   "source": [
    "3. Create 2 normally distributed (mean=0, std_dev=1) random 10x5 arrays, stack them vertically, then calculate the average of each column. Use vectorization."
   ]
  },
  {
   "cell_type": "code",
   "execution_count": 99,
   "metadata": {},
   "outputs": [
    {
     "name": "stdout",
     "output_type": "stream",
     "text": [
      "[[ 1.76405235  0.40015721  0.97873798  2.2408932   1.86755799]\n",
      " [-0.97727788  0.95008842 -0.15135721 -0.10321885  0.4105985 ]\n",
      " [ 0.14404357  1.45427351  0.76103773  0.12167502  0.44386323]\n",
      " [ 0.33367433  1.49407907 -0.20515826  0.3130677  -0.85409574]\n",
      " [-2.55298982  0.6536186   0.8644362  -0.74216502  2.26975462]\n",
      " [-1.45436567  0.04575852 -0.18718385  1.53277921  1.46935877]\n",
      " [ 0.15494743  0.37816252 -0.88778575 -1.98079647 -0.34791215]\n",
      " [ 0.15634897  1.23029068  1.20237985 -0.38732682 -0.30230275]\n",
      " [-1.04855297 -1.42001794 -1.70627019  1.9507754  -0.50965218]\n",
      " [-0.4380743  -1.25279536  0.77749036 -1.61389785 -0.21274028]\n",
      " [-0.89546656  0.3869025  -0.51080514 -1.18063218 -0.02818223]\n",
      " [ 0.42833187  0.06651722  0.3024719  -0.63432209 -0.36274117]\n",
      " [-0.67246045 -0.35955316 -0.81314628 -1.7262826   0.17742614]\n",
      " [-0.40178094 -1.63019835  0.46278226 -0.90729836  0.0519454 ]\n",
      " [ 0.72909056  0.12898291  1.13940068 -1.23482582  0.40234164]\n",
      " [-0.68481009 -0.87079715 -0.57884966 -0.31155253  0.05616534]\n",
      " [-1.16514984  0.90082649  0.46566244 -1.53624369  1.48825219]\n",
      " [ 1.89588918  1.17877957 -0.17992484 -1.07075262  1.05445173]\n",
      " [-0.40317695  1.22244507  0.20827498  0.97663904  0.3563664 ]\n",
      " [ 0.70657317  0.01050002  1.78587049  0.12691209  0.40198936]]\n"
     ]
    },
    {
     "data": {
      "text/plain": [
       "array([-0.2190577 ,  0.24840102,  0.18640318, -0.30832866,  0.39162224])"
      ]
     },
     "execution_count": 99,
     "metadata": {},
     "output_type": "execute_result"
    }
   ],
   "source": [
    "np.random.seed(0)\n",
    "a=np.random.normal(0,1,(10,5))\n",
    "b=np.random.normal(0,1,(10,5))\n",
    "c=np.vstack([a,b])\n",
    "print(c)\n",
    "np.mean(c,axis=0)"
   ]
  },
  {
   "cell_type": "markdown",
   "metadata": {},
   "source": [
    "4. Create a normally distributed (mean=0, std_dev=1) random 10x5 array, then calculate the sum of the values in each row. Use vectorization."
   ]
  },
  {
   "cell_type": "code",
   "execution_count": 100,
   "metadata": {},
   "outputs": [
    {
     "name": "stdout",
     "output_type": "stream",
     "text": [
      "[[ 1.76405235  0.40015721  0.97873798  2.2408932   1.86755799]\n",
      " [-0.97727788  0.95008842 -0.15135721 -0.10321885  0.4105985 ]\n",
      " [ 0.14404357  1.45427351  0.76103773  0.12167502  0.44386323]\n",
      " [ 0.33367433  1.49407907 -0.20515826  0.3130677  -0.85409574]\n",
      " [-2.55298982  0.6536186   0.8644362  -0.74216502  2.26975462]\n",
      " [-1.45436567  0.04575852 -0.18718385  1.53277921  1.46935877]\n",
      " [ 0.15494743  0.37816252 -0.88778575 -1.98079647 -0.34791215]\n",
      " [ 0.15634897  1.23029068  1.20237985 -0.38732682 -0.30230275]\n",
      " [-1.04855297 -1.42001794 -1.70627019  1.9507754  -0.50965218]\n",
      " [-0.4380743  -1.25279536  0.77749036 -1.61389785 -0.21274028]]\n"
     ]
    },
    {
     "data": {
      "text/plain": [
       "array([ 7.25139873,  0.12883298,  2.92489305,  1.0815671 ,  0.49265458,\n",
       "        1.40634698, -2.68338442,  1.89938993, -2.73371788, -2.74001743])"
      ]
     },
     "execution_count": 100,
     "metadata": {},
     "output_type": "execute_result"
    }
   ],
   "source": [
    "np.random.seed(0)\n",
    "h=np.random.normal(0,1,(10,5))\n",
    "print(h)\n",
    "np.sum(h,axis=1)"
   ]
  },
  {
   "cell_type": "markdown",
   "metadata": {},
   "source": [
    "5. Create a 5x3 array initialized with random integers 1-10, then reshape it to 3x5, and then calculate its sum (single number fo sum). Use vectorization."
   ]
  },
  {
   "cell_type": "code",
   "execution_count": 101,
   "metadata": {},
   "outputs": [
    {
     "name": "stdout",
     "output_type": "stream",
     "text": [
      "[[ 6  1  4]\n",
      " [ 4  8 10]\n",
      " [ 4  6  3]\n",
      " [ 5  8  7]\n",
      " [ 9  9  2]]\n",
      "[[ 6  4  4  5  9]\n",
      " [ 1  8  6  8  9]\n",
      " [ 4 10  3  7  2]]\n",
      "86\n"
     ]
    }
   ],
   "source": [
    "np.random.seed(0)\n",
    "e=np.random.randint(1,11,(5,3))\n",
    "print(e)\n",
    "print(e.T)\n",
    "print(np.sum(e.T))"
   ]
  },
  {
   "cell_type": "markdown",
   "metadata": {},
   "source": [
    "6. Create a 5x3 array initialized with random integers 1-10, then multiply each value by 2. Use vectorization."
   ]
  },
  {
   "cell_type": "code",
   "execution_count": 102,
   "metadata": {},
   "outputs": [
    {
     "name": "stdout",
     "output_type": "stream",
     "text": [
      "[[ 6  1  4]\n",
      " [ 4  8 10]\n",
      " [ 4  6  3]\n",
      " [ 5  8  7]\n",
      " [ 9  9  2]]\n"
     ]
    },
    {
     "data": {
      "text/plain": [
       "array([[12,  2,  8],\n",
       "       [ 8, 16, 20],\n",
       "       [ 8, 12,  6],\n",
       "       [10, 16, 14],\n",
       "       [18, 18,  4]])"
      ]
     },
     "execution_count": 102,
     "metadata": {},
     "output_type": "execute_result"
    }
   ],
   "source": [
    "np.random.seed(0)\n",
    "f=np.random.randint(1,11,(5,3))\n",
    "print(f)\n",
    "f*2"
   ]
  },
  {
   "cell_type": "code",
   "execution_count": null,
   "metadata": {},
   "outputs": [],
   "source": []
  },
  {
   "cell_type": "code",
   "execution_count": null,
   "metadata": {},
   "outputs": [],
   "source": []
  }
 ],
 "metadata": {
  "kernelspec": {
   "display_name": "Python 3 (ipykernel)",
   "language": "python",
   "name": "python3"
  },
  "language_info": {
   "codemirror_mode": {
    "name": "ipython",
    "version": 3
   },
   "file_extension": ".py",
   "mimetype": "text/x-python",
   "name": "python",
   "nbconvert_exporter": "python",
   "pygments_lexer": "ipython3",
   "version": "3.9.12"
  }
 },
 "nbformat": 4,
 "nbformat_minor": 4
}
